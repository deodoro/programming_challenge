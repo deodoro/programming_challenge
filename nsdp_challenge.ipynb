{
  "nbformat": 4,
  "nbformat_minor": 0,
  "metadata": {
    "colab": {
      "provenance": []
    },
    "kernelspec": {
      "name": "python3",
      "display_name": "Python 3"
    },
    "language_info": {
      "name": "python"
    }
  },
  "cells": [
    {
      "cell_type": "markdown",
      "source": [
        "**Country delays in NSDP dissemination**"
      ],
      "metadata": {
        "id": "sUOotJFIWJza"
      }
    },
    {
      "cell_type": "code",
      "source": [
        "#Importing required libraries\n",
        "import os\n",
        "import pandas as pd\n",
        "import numpy as np\n",
        "import re "
      ],
      "metadata": {
        "id": "9R31xiPlWSWc"
      },
      "execution_count": null,
      "outputs": []
    },
    {
      "cell_type": "code",
      "source": [
        "#Get current Directoy\n",
        "cwd = os.getcwd()\n",
        "print(cwd)"
      ],
      "metadata": {
        "id": "bHqB-53VWX_Q"
      },
      "execution_count": null,
      "outputs": []
    },
    {
      "cell_type": "code",
      "source": [
        "#Read the data from excel to pandas dataframe\n",
        "#Excluding the current header ,as the 1st row is the actual header\n",
        "data = pd.read_excel('nsdp_delays_random.xlsx',header=1)"
      ],
      "metadata": {
        "id": "UkPe8KyCWe_0"
      },
      "execution_count": null,
      "outputs": []
    },
    {
      "cell_type": "code",
      "source": [
        "#Understand the data/types\n",
        "data.head()"
      ],
      "metadata": {
        "id": "1E4jWnRuWuCA"
      },
      "execution_count": null,
      "outputs": []
    },
    {
      "cell_type": "markdown",
      "source": [
        "**Data Cleansing**"
      ],
      "metadata": {
        "id": "f9A5hZqsnYDd"
      }
    },
    {
      "cell_type": "markdown",
      "source": [
        "1. The current data has few columns which are not required and hence can be removed/ignored.\n",
        "2. There are errors/typos in data, which can be replaced with Zero's. \n",
        "3. Ignoring to query the data based on 'P/T' information, as the description for 'T' is missing and for some coutries the 'T' type also  has some value in the timelines.data['P/T'].unique()\n"
      ],
      "metadata": {
        "id": "K_D-gWPSjcF9"
      }
    },
    {
      "cell_type": "code",
      "source": [
        "#Removing the columns which are not required \n",
        "data.drop(data.columns[[0,3, 5, 6, 23, 24, 25, 26]], axis=1, inplace=True)"
      ],
      "metadata": {
        "id": "JCXtKCdQmiq-"
      },
      "execution_count": null,
      "outputs": []
    },
    {
      "cell_type": "code",
      "source": [
        "#re-arranging the columns to have quaterly data together\n",
        "data = data.iloc[:, [0,1,2,6,10,14,18,3,4,5,7,8,9,11,12,13,15,16,17]]"
      ],
      "metadata": {
        "id": "vBGzxdTxwy5q"
      },
      "execution_count": null,
      "outputs": []
    },
    {
      "cell_type": "code",
      "source": [
        "#Replace negetive values with 0\n",
        "data = data.replace(-9999, 0)"
      ],
      "metadata": {
        "id": "d4KRSZi5fwvF"
      },
      "execution_count": null,
      "outputs": []
    },
    {
      "cell_type": "code",
      "source": [
        "#Replace the outliers with 0 (9999)\n",
        "data = data.replace(9999, 0)"
      ],
      "metadata": {
        "id": "Ow9ss9jusi21"
      },
      "execution_count": null,
      "outputs": []
    },
    {
      "cell_type": "code",
      "source": [
        "# Replacing np.nan with 0\n",
        "data = data.replace(np.nan, 0)"
      ],
      "metadata": {
        "id": "GNoX7QXT9m67"
      },
      "execution_count": null,
      "outputs": []
    },
    {
      "cell_type": "code",
      "source": [
        "#Replace spaces\n",
        "data = data.replace(\" \", \"\")"
      ],
      "metadata": {
        "id": "DhInU1RZ_D5B"
      },
      "execution_count": null,
      "outputs": []
    },
    {
      "cell_type": "code",
      "source": [
        "#Missing values can be treated with  'Zero's' . considering that there is no delay .\n",
        "data.fillna(0) "
      ],
      "metadata": {
        "id": "3DYxLVYBokuw"
      },
      "execution_count": null,
      "outputs": []
    },
    {
      "cell_type": "code",
      "source": [
        "#data = data.replace(['O','S','X','P','No','NYD','S -35'], 0)"
      ],
      "metadata": {
        "id": "NV5XxRj6I550"
      },
      "execution_count": null,
      "outputs": []
    },
    {
      "cell_type": "code",
      "source": [
        "#Replace anything/string which is not a numeric value with Zero (only in timelines column type)\n",
        "data.iloc[:, 3:19] = data.iloc[:, 3:19].replace(r'\\D+', 0, regex=True).astype('int')"
      ],
      "metadata": {
        "id": "MClH2pdwPHEI"
      },
      "execution_count": null,
      "outputs": []
    },
    {
      "cell_type": "code",
      "source": [
        "# After preprocessing the data ,validate/test the data in the columns from [Q1,Dec] to check if they can be used for numeric conversion \n",
        "data.describe()"
      ],
      "metadata": {
        "id": "5IlhSctFPja5"
      },
      "execution_count": null,
      "outputs": []
    },
    {
      "cell_type": "markdown",
      "source": [
        "**Aggregating the Timelines**"
      ],
      "metadata": {
        "id": "n0H5tWS6nL0J"
      }
    },
    {
      "cell_type": "markdown",
      "source": [
        "1. some of the codes have monthly data and some have only quaterly data .\n",
        "2. Assuming the quatery data is sum of the 3 months .And hence codes with montly data and quaterly data both are averaged by 12 months ."
      ],
      "metadata": {
        "id": "Kx5iILYonv_H"
      }
    },
    {
      "cell_type": "code",
      "source": [
        "# Averaging on quaterly data [Q1 : Q4]\n",
        "data = data.assign(qtAverage=lambda x: (x['Q1'] + x['Q2'] + x['Q3'] + x['Q4'])/12)"
      ],
      "metadata": {
        "id": "3CgNBd2PqvVu"
      },
      "execution_count": null,
      "outputs": []
    },
    {
      "cell_type": "code",
      "source": [
        "# Averaging on monthly data [Jan : Dec]\n",
        "data = data.assign(mtlyAverage=lambda x: data.iloc[:,7:18].mean(axis=1))"
      ],
      "metadata": {
        "id": "bHrE7vDuG7F2"
      },
      "execution_count": null,
      "outputs": []
    },
    {
      "cell_type": "code",
      "source": [
        "# Sum of Averages \n",
        "# Since the country has either quaterly data or montly data , they can be summed up\n",
        "data = data.assign(Average=lambda x: x['qtAverage'] + x['mtlyAverage'])"
      ],
      "metadata": {
        "id": "3pQG7c1MPNNc"
      },
      "execution_count": null,
      "outputs": []
    },
    {
      "cell_type": "code",
      "source": [
        "# Export the data fram into an excel \n",
        "data.to_excel(\"output_new.xlsx\",\n",
        "...              sheet_name='Sheet_name_1')  "
      ],
      "metadata": {
        "id": "2Dp1mqlwS_8x"
      },
      "execution_count": null,
      "outputs": []
    },
    {
      "cell_type": "code",
      "source": [
        "#-------------------------------End-----------------------------------------------#"
      ],
      "metadata": {
        "id": "PWBcStvgOcE-"
      },
      "execution_count": null,
      "outputs": []
    }
  ]
}